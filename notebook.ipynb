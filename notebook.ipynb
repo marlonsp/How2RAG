{
 "cells": [
  {
   "cell_type": "markdown",
   "metadata": {},
   "source": [
    "# Como o uso de RAG melhora a contextualização?\n",
    "## Técnicas Rag para o melhorar o Few-shot"
   ]
  },
  {
   "cell_type": "markdown",
   "metadata": {},
   "source": [
    "Import de bibliotecas, leitura da chave da API e do arquivo txt usado para o RAG:"
   ]
  },
  {
   "cell_type": "code",
   "execution_count": 102,
   "metadata": {},
   "outputs": [],
   "source": [
    "import os\n",
    "from dotenv import load_dotenv\n",
    "from langchain_google_genai import GoogleGenerativeAIEmbeddings, ChatGoogleGenerativeAI\n",
    "from langchain_community.vectorstores import FAISS\n",
    "from langchain_core.prompts import PromptTemplate\n",
    "from langchain_core.runnables import RunnablePassthrough\n",
    "from langchain_core.output_parsers import StrOutputParser\n",
    "from langchain.load import dumps, loads\n",
    "from IPython.display import display, Markdown\n",
    "\n",
    "load_dotenv()\n",
    "\n",
    "os.environ[\"GOOGLE_API_KEY\"] = os.getenv(\"GOOGLE_API_KEY\")\n",
    "\n",
    "# read txt file\n",
    "with open(\"brasil.txt\", \"r\", encoding=\"utf-8\") as file:\n",
    "    conteudo = file.read()"
   ]
  },
  {
   "cell_type": "markdown",
   "metadata": {},
   "source": [
    "Separação do textos (chunks) para o processo de embedding:"
   ]
  },
  {
   "cell_type": "code",
   "execution_count": 72,
   "metadata": {},
   "outputs": [
    {
     "data": {
      "text/plain": [
       "['1. **Povos Indígenas e Período Pré-Colonial:** Antes da chegada dos europeus em 1500, o território que hoje conhecemos como Brasil era um mosaico vibrante de culturas e sociedades indígenas.  Estima-se que até 5 milhões de pessoas, distribuídas em centenas de diferentes etnias, habitavam a região, cada uma com sua própria língua, costumes e organização social.  Grupos como os Tupi-Guarani, os Jê e os Arawak, entre muitos outros,  desenvolveram complexas relações com o ambiente,  dominando técnicas agrícolas adaptadas aos diversos ecossistemas brasileiros,  além da caça, pesca e coleta.  Sua cosmovisão, profundamente ligada à natureza,  influenciava todos os aspectos da vida, desde a organização social e política até as práticas religiosas e artísticas.  Longe da imagem estereotipada de um povo homogêneo, os indígenas pré-colombianos demonstravam uma rica diversidade cultural e um profundo conhecimento do território,  legado que, apesar dos séculos de violência e desrespeito, ainda resiste e influencia a identidade brasileira.',\n",
       " '2. **A Chegada dos Portugueses (1500):** A chegada da frota de Pedro Álvares Cabral em 22 de abril de 1500 marcou o início de um processo drástico de transformação para o território brasileiro e seus habitantes originais.  Inicialmente, o interesse português concentrou-se na exploração do pau-brasil,  uma madeira de alto valor comercial na Europa devido à sua utilização em tinturaria.  Este período inicial foi marcado por uma  complexa interação entre portugueses e indígenas,  envolvendo trocas comerciais, alianças e, inevitavelmente, conflitos.  A exploração do pau-brasil, baseada no escambo com os nativos,  representou o primeiro passo para a inserção do Brasil na economia mundial sob a ótica europeia,  mas também plantou as sementes da exploração e da violência que marcariam os séculos seguintes.  A visão eurocêntrica dos portugueses, que consideravam os indígenas como povos inferiores,  dificultou o estabelecimento de relações verdadeiramente equitativas e sustentáveis.',\n",
       " '3. **Início da Colonização e Capitanias Hereditárias (1534):**  A partir de 1534, Portugal implementou um sistema de colonização mais estruturado,  dividindo o território em capitanias hereditárias,  grandes faixas de terra concedidas a donatários responsáveis por sua administração e desenvolvimento.  Esse sistema,  embora não tenha sido totalmente bem-sucedido,  representou o início da ocupação efetiva do território brasileiro pelos portugueses.  A fundação de Salvador, em 1549, como primeira capital da colônia,  simbolizou a consolidação do projeto colonizador e o estabelecimento de um centro administrativo e político.  Paralelamente,  a introdução da cana-de-açúcar e o desenvolvimento da economia açucareira no Nordeste  demandaram uma crescente necessidade de mão de obra,  inicialmente explorando o trabalho indígena e, posteriormente,  recorrendo ao tráfico de escravos africanos,  inaugurando um dos capítulos mais sombrios da história brasileira.',\n",
       " '4. **A Economia Açucareira e a Escravidão Africana:** A cultura da cana-de-açúcar e a produção de açúcar  tornaram-se o motor da economia brasileira nos séculos XVI e XVII,  transformando o país em uma das maiores colônias escravistas do mundo.  A demanda por mão de obra nos engenhos açucareiros impulsionou o tráfico transatlântico de africanos,  submetendo milhões de pessoas a condições desumanas de transporte,  trabalho forçado e violência sistemática.  A escravidão africana  marcou profundamente a formação social, econômica e cultural do Brasil,  deixando um legado de desigualdade e racismo que persiste até os dias atuais.  A brutalidade do sistema escravista  moldou as relações de poder e a estrutura social da colônia,  impactando a cultura, a religião e a identidade do povo brasileiro.',\n",
       " '5. **Invasões Estrangeiras e Expansão Territorial:**  Durante os séculos XVI e XVII,  o Brasil colonial enfrentou diversas tentativas de invasão por parte de potências europeias rivais,  notadamente franceses e holandeses,  que buscavam se apropriar das riquezas da colônia e estabelecer seus próprios domínios.  Apesar dessas investidas,  Portugal conseguiu, em grande parte,  manter o controle sobre o território,  expandindo suas fronteiras para além do Tratado de Tordesilhas através da ação dos bandeirantes.  Esses exploradores,  motivados pela busca por ouro,  índios para escravizar e novas terras,  adentraram o interior do continente,  expandindo os limites da colônia e  intensificando os conflitos com as populações indígenas.  As invasões estrangeiras e a expansão territorial  contribuíram para a formação de um território vastamente maior do que o inicialmente previsto pelo Tratado de Tordesilhas,  configurando o mapa do Brasil que conhecemos hoje.',\n",
       " '6. **A Era do Ouro (1700-1800):** A descoberta de ouro em Minas Gerais, Goiás e Mato Grosso, no final do século XVII e início do XVIII,  provocou uma profunda transformação na economia e na sociedade brasileira.  A mineração atraiu um grande fluxo migratório para o interior do país,  impulsionando o surgimento de novas vilas e cidades e  deslocando o centro econômico do Nordeste açucareiro para a região das minas.  A Coroa Portuguesa,  ávida por controlar e taxar a produção aurífera,  implementou um rígido sistema de fiscalização e cobrança de impostos,  gerando insatisfação e revoltas entre a população colonial,  como a Inconfidência Mineira em 1789.  A era do ouro,  apesar de ter gerado riqueza e desenvolvimento para algumas regiões,  também intensificou a exploração do trabalho escravo e  contribuiu para o aprofundamento das desigualdades sociais.',\n",
       " '7. **Transferência da Corte Portuguesa (1808):**  A invasão de Portugal pelas tropas napoleônicas em 1808  forçou a família real portuguesa a se transferir para o Brasil,  um evento de profundas consequências para a colônia.  A chegada da corte ao Rio de Janeiro  transformou a cidade em centro político e administrativo do Império Português,  impulsionando seu desenvolvimento urbano e  modernizando a estrutura administrativa da colônia.  A abertura dos portos às nações amigas,  a criação de instituições como o Banco do Brasil e a Imprensa Régia,  e o estímulo à criação de universidades e bibliotecas  representaram importantes passos na modernização do Brasil e  na sua gradual emancipação de Portugal.',\n",
       " '8. **Proclamação da Independência (1822):**  Após anos de crescente  autonomia  e  tensões com as Cortes Portuguesas, que desejavam recolonizar o Brasil,  D. Pedro I proclamou a independência do país em 7 de setembro de 1822.  Esse ato,  embora liderado pela elite brasileira e  mantendo a estrutura monárquica,  representou um marco fundamental na história do país,  rompendo os laços coloniais com Portugal e  inaugurando uma nova fase de desenvolvimento político e social.  A independência,  no entanto,  não significou uma ruptura completa com o passado colonial,  e o novo país herdou muitas das estruturas e desigualdades da era colonial,  enfrentando desafios como a consolidação da unidade nacional,  a organização do Estado e a questão da escravidão.',\n",
       " '9. **Primeiro Reinado e Abdicação de Dom Pedro I (1822-1831):** O Primeiro Reinado,  período compreendido entre a independência e a abdicação de D. Pedro I em 1831,  foi marcado por grande instabilidade política e  conflitos entre o imperador e as elites brasileiras.  A Constituição de 1824,  outorgada pelo imperador,  gerou insatisfação por centralizar o poder nas mãos do monarca.  A Guerra da Cisplatina,  a crise econômica e  a crescente oposição ao autoritarismo de D. Pedro I  contribuíram para o desgaste do seu governo,  culminando em sua abdicação em favor de seu filho,  D. Pedro II,  então com apenas cinco anos de idade.  A abdicação de D. Pedro I  abriu caminho para o período regencial,  uma fase turbulenta da história brasileira marcada por revoltas e disputas pelo poder.',\n",
       " '10. **Segundo Reinado e Expansão Econômica (1840-1889):**  O Segundo Reinado,  período que se estendeu de 1840 a 1889 sob o governo de D. Pedro II,  foi marcado por relativa estabilidade política e  significativo crescimento econômico,  impulsionado pela cultura do café.  A expansão da cafeicultura,  principalmente no Sudeste do país,  modernizou a economia brasileira,  atraindo investimentos estrangeiros e  impulsionando o desenvolvimento de infraestrutura,  como a construção de ferrovias.  A imigração europeia,  incentivada pelo governo,  contribuiu para o crescimento demográfico e a diversificação da sociedade brasileira.  No entanto,  o Segundo Reinado também enfrentou importantes desafios,  como a Guerra do Paraguai e  o crescente movimento abolicionista,  que culminaria no fim da escravidão em 1888 e  contribuiria para o declínio do Império e a Proclamação da República em 1889.',\n",
       " '11. **Abolição da Escravatura (1888):**  A assinatura da Lei Áurea em 13 de maio de 1888, embora tardia em comparação com outras nações, representou um marco fundamental na história brasileira, abolindo oficialmente a escravidão após séculos de exploração brutal.  No entanto, a  lei não previu nenhuma política de inclusão social ou econômica para os recém-libertos, abandonando-os à própria sorte sem terras, educação ou qualquer tipo de apoio.  Essa omissão gerou um ciclo de pobreza e marginalização que ainda impacta a população negra no Brasil. A abolição também teve consequências políticas significativas, enfraquecendo o apoio da elite agrária à monarquia, que via na escravidão a base de sua economia e poder.  Esse descontentamento contribuiu para o clima de instabilidade que culminou na Proclamação da República no ano seguinte.',\n",
       " '12. **Proclamação da República (1889):**  O golpe militar que instaurou a República em 15 de novembro de 1889 marcou uma mudança radical no regime político brasileiro, encerrando o período imperial e dando início à chamada República Velha.  Apesar da promessa de modernização e progresso, a República Velha foi marcada pela oligarquia cafeeira e pela política do café com leite, na qual o poder se alternava entre as elites de São Paulo e Minas Gerais.  Esse sistema excluía grande parte da população da participação política e perpetuava as desigualdades sociais herdadas do período imperial. A proclamação, embora celebrada como um avanço, na prática representou a troca de uma elite dominante por outra, com poucas mudanças estruturais na sociedade brasileira.',\n",
       " '13. **Primeira República e Tensão Social (1889–1930):** A Primeira República, também conhecida como República Velha, foi um período de intensas contradições.  Por um lado, testemunhou o início da industrialização e o crescimento das cidades. Por outro, foi marcado por profundas desigualdades sociais, pelo coronelismo, que dominava o cenário político no interior do país, e pela marginalização das classes populares.  Revoltas como a de Canudos (1896–1897) e a Revolta da Chibata (1910) expuseram a violência e a opressão sofridas pelos mais pobres, revelando as tensões latentes e a fragilidade da ordem social vigente.  Essas revoltas, brutalmente reprimidas, demonstram a insatisfação popular com o sistema político e as condições de vida da época.',\n",
       " '14. **Era Vargas (1930–1945):** A ascensão de Getúlio Vargas ao poder em 1930, após a Revolução de 1930, inaugurou um novo capítulo na história do Brasil.  Vargas implementou uma série de mudanças significativas, como a criação das leis trabalhistas, o incentivo à industrialização e a centralização do poder político.  Embora tenha promovido avanços sociais importantes, seu governo também foi marcado por autoritarismo, culminando no Estado Novo (1937–1945), período ditatorial com forte repressão política e censura.  A Era Vargas, portanto, é um período complexo e controverso, com legados positivos e negativos que ainda são debatidos na atualidade.',\n",
       " '15. **Redemocratização e Segunda República (1946–1964):**  Após a deposição de Vargas em 1945, o Brasil viveu um período de redemocratização, com a promulgação de uma nova Constituição em 1946 e a retomada das eleições diretas.  A Segunda República, no entanto, foi marcada por instabilidade política e pela polarização ideológica, em um contexto de Guerra Fria.  Apesar do avanço da industrialização e do crescimento econômico, as desigualdades sociais persistiram, gerando tensões e crises políticas que culminaram no golpe militar de 1964. Esse período democrático, embora curto, representou um importante aprendizado para o país na construção de instituições democráticas.',\n",
       " '16. **Ditadura Militar (1964–1985):**  O golpe militar de 1964 instaurou um regime autoritário que durou 21 anos, marcado pela repressão política, pela censura à imprensa, pela tortura e pelo desaparecimento de opositores.  Embora o regime tenha investido em infraestrutura, com a construção de rodovias e hidrelétricas, o custo social foi altíssimo.  O crescimento econômico do chamado \"Milagre Brasileiro\" ocorreu à sombra da violência e da supressão das liberdades individuais.  A resistência da sociedade civil, através de movimentos sociais e artísticos, foi fundamental para o processo de redemocratização iniciado na década de 1980.',\n",
       " '17. **Nova República e Constituição de 1988:**  A promulgação da Constituição de 1988, conhecida como \"Constituição Cidadã\", marcou a consolidação da redemocratização e o restabelecimento do Estado de Direito no Brasil.  A nova Carta Magna garantiu amplos direitos e liberdades individuais, além de estabelecer princípios como a saúde, a educação e a moradia como direitos sociais.  Desde então, o país tem enfrentado desafios econômicos, como a hiperinflação da década de 1990, mas também conquistou avanços significativos em políticas sociais, especialmente nos anos 2000, com programas de combate à pobreza e de inclusão social.',\n",
       " '18. **Crises Políticas e Econômicas do Século XXI:**  A partir de 2010, o Brasil enfrentou uma série de crises políticas e econômicas, com escândalos de corrupção que abalaram a confiança nas instituições e uma profunda recessão que impactou negativamente a vida da população.  A polarização política se intensificou, gerando um clima de instabilidade e incerteza.  Esses eventos provocaram mudanças significativas no cenário eleitoral e colocaram em xeque os avanços sociais conquistados nas décadas anteriores.',\n",
       " '19. **Avanços e Desafios Contemporâneos:** O Brasil do século XXI é uma nação multicultural com uma crescente influência no cenário global.  O país tem alcançado progressos em áreas como educação, tecnologia e  redução da pobreza. No entanto,  persistem  desigualdades sociais e econômicas profundas, que se manifestam em problemas como a violência urbana, o racismo estrutural e a  desigualdade de acesso a oportunidades.  A busca por um desenvolvimento sustentável, que concilie crescimento econômico com justiça social e preservação ambiental, é um dos principais desafios do país.',\n",
       " '20. **O Brasil e o Futuro:**  Com sua rica história, sua diversidade cultural e seus vastos recursos naturais, o Brasil possui um enorme potencial de crescimento e desenvolvimento.  Para realizar esse potencial, é crucial investir em áreas como sustentabilidade, inclusão social e inovação tecnológica.  O futuro do Brasil depende da capacidade da sociedade em superar as desigualdades históricas, promover a justiça social e construir um país mais próspero e democrático para todos. A participação ativa da população na construção de um projeto de nação inclusivo e sustentável é fundamental para o sucesso desse processo.']"
      ]
     },
     "execution_count": 72,
     "metadata": {},
     "output_type": "execute_result"
    }
   ],
   "source": [
    "texts = conteudo.split(\"\\n\\n\")\n",
    "texts = [text for text in texts if text]\n",
    "texts"
   ]
  },
  {
   "cell_type": "markdown",
   "metadata": {},
   "source": [
    "Embedding dos textos e criação do Vector Database:"
   ]
  },
  {
   "cell_type": "code",
   "execution_count": 89,
   "metadata": {},
   "outputs": [],
   "source": [
    "embeddings = GoogleGenerativeAIEmbeddings(model=\"models/embedding-001\")\n",
    "\n",
    "faiss = FAISS.from_texts(texts, embeddings)\n",
    "\n",
    "# salva o arquivo\n",
    "faiss.save_local(\"vectorstore/docs_index\")"
   ]
  },
  {
   "cell_type": "markdown",
   "metadata": {},
   "source": [
    "Carregamento do Vector Database e criação do retriever:"
   ]
  },
  {
   "cell_type": "code",
   "execution_count": 90,
   "metadata": {},
   "outputs": [
    {
     "data": {
      "text/plain": [
       "VectorStoreRetriever(tags=['FAISS', 'GoogleGenerativeAIEmbeddings'], vectorstore=<langchain_community.vectorstores.faiss.FAISS object at 0x000002955F199BE0>, search_kwargs={'k': 3})"
      ]
     },
     "execution_count": 90,
     "metadata": {},
     "output_type": "execute_result"
    }
   ],
   "source": [
    "vector_store = FAISS.load_local(\n",
    "    \"vectorstore/docs_index\", embeddings, allow_dangerous_deserialization=True\n",
    ")\n",
    "\n",
    "# Busca de dois documentos\n",
    "retriever = vector_store.as_retriever(search_kwargs={\"k\": 3})\n",
    "retriever"
   ]
  },
  {
   "cell_type": "markdown",
   "metadata": {},
   "source": [
    "Execução da busca de documentos usando apenas a base do RAG:"
   ]
  },
  {
   "cell_type": "code",
   "execution_count": 91,
   "metadata": {},
   "outputs": [
    {
     "name": "stdout",
     "output_type": "stream",
     "text": [
      "12. **Proclamação da República (1889):**  O golpe militar que instaurou a República em 15 de novembro de 1889 marcou uma mudança radical no regime político brasileiro, encerrando o período imperial e dando início à chamada República Velha.  Apesar da promessa de modernização e progresso, a República Velha foi marcada pela oligarquia cafeeira e pela política do café com leite, na qual o poder se alternava entre as elites de São Paulo e Minas Gerais.  Esse sistema excluía grande parte da população da participação política e perpetuava as desigualdades sociais herdadas do período imperial. A proclamação, embora celebrada como um avanço, na prática representou a troca de uma elite dominante por outra, com poucas mudanças estruturais na sociedade brasileira.\n",
      "8. **Proclamação da Independência (1822):**  Após anos de crescente  autonomia  e  tensões com as Cortes Portuguesas, que desejavam recolonizar o Brasil,  D. Pedro I proclamou a independência do país em 7 de setembro de 1822.  Esse ato,  embora liderado pela elite brasileira e  mantendo a estrutura monárquica,  representou um marco fundamental na história do país,  rompendo os laços coloniais com Portugal e  inaugurando uma nova fase de desenvolvimento político e social.  A independência,  no entanto,  não significou uma ruptura completa com o passado colonial,  e o novo país herdou muitas das estruturas e desigualdades da era colonial,  enfrentando desafios como a consolidação da unidade nacional,  a organização do Estado e a questão da escravidão.\n",
      "17. **Nova República e Constituição de 1988:**  A promulgação da Constituição de 1988, conhecida como \"Constituição Cidadã\", marcou a consolidação da redemocratização e o restabelecimento do Estado de Direito no Brasil.  A nova Carta Magna garantiu amplos direitos e liberdades individuais, além de estabelecer princípios como a saúde, a educação e a moradia como direitos sociais.  Desde então, o país tem enfrentado desafios econômicos, como a hiperinflação da década de 1990, mas também conquistou avanços significativos em políticas sociais, especialmente nos anos 2000, com programas de combate à pobreza e de inclusão social.\n"
     ]
    }
   ],
   "source": [
    "query = \"Quais foram as causas da Proclamação da República no Brasil?\"\n",
    "\n",
    "# busca\n",
    "response1 = retriever.invoke(query)\n",
    "for i in response1:\n",
    "    print(i.page_content)"
   ]
  },
  {
   "cell_type": "markdown",
   "metadata": {},
   "source": [
    "Função para fazer o re-ranqueamento dos documentos para RAG-Fusion:"
   ]
  },
  {
   "cell_type": "code",
   "execution_count": 93,
   "metadata": {},
   "outputs": [],
   "source": [
    "# https://github.com/langchain-ai/rag-from-scratch/tree/main\n",
    "\n",
    "def reciprocal_rank_fusion(results: list[list], k=60):\n",
    "    \"\"\" Reciprocal_rank_fusion that takes multiple lists of ranked documents\n",
    "        and an optional parameter k used in the RRF formula \"\"\"\n",
    "\n",
    "    # Initialize a dictionary to hold fused scores for each unique document\n",
    "    fused_scores = {}\n",
    "\n",
    "    # Iterate through each list of ranked documents\n",
    "    for docs in results:\n",
    "        # Iterate through each document in the list, with its rank (position in the list)\n",
    "        for rank, doc in enumerate(docs):\n",
    "            # Convert the document to a string format to use as a key (assumes documents can be serialized to JSON)\n",
    "            doc_str = dumps(doc)\n",
    "            # If the document is not yet in the fused_scores dictionary, add it with an initial score of 0\n",
    "            if doc_str not in fused_scores:\n",
    "                fused_scores[doc_str] = 0\n",
    "            # Retrieve the current score of the document, if any\n",
    "            previous_score = fused_scores[doc_str]\n",
    "            # Update the score of the document using the RRF formula: 1 / (rank + k)\n",
    "            fused_scores[doc_str] += 1 / (rank + k)\n",
    "\n",
    "    # Sort the documents based on their fused scores in descending order to get the final reranked results\n",
    "    reranked_results = [\n",
    "        (loads(doc), score)\n",
    "        for doc, score in sorted(fused_scores.items(), key=lambda x: x[1], reverse=True)\n",
    "    ]\n",
    "\n",
    "    # Return the reranked results as a list of tuples, each containing the document and its fused score\n",
    "    \n",
    "    # select the top 3\n",
    "    reranked_results = reranked_results[:3]\n",
    "\n",
    "    return reranked_results"
   ]
  },
  {
   "cell_type": "markdown",
   "metadata": {},
   "source": [
    "Chain para executar o RAG Fusion:"
   ]
  },
  {
   "cell_type": "code",
   "execution_count": 94,
   "metadata": {},
   "outputs": [],
   "source": [
    "llm = ChatGoogleGenerativeAI(model=\"gemini-1.5-flash\")\n",
    "\n",
    "template_rag = \"\"\"Você é um assistente de modelo de linguagem de IA. Sua tarefa é gerar quatro versões diferentes da pergunta fornecida pelo usuário para recuperar\n",
    "documentos relevantes de um banco de dados vetorial. Ao gerar várias perspectivas sobre a pergunta do usuário de contexto semântico idêntico,\n",
    "seu objetivo é ajudar o usuário a superar algumas das limitações da busca de similaridade baseada em distância, mantendo a intenção original da busca como causa e consequência.\n",
    "Forneça essas perguntas alternativas separadas por novas linhas. \\n\n",
    "Gere novas perguntas relacionadas a: {question} \\n\n",
    "Excreva apenas as perguntas, sem formatação adicional. \\n\n",
    "Saída (3 consultas):\"\"\"\n",
    "\n",
    "\n",
    "prompt_rag_fusion = PromptTemplate.from_template(template_rag)\n",
    "\n",
    "generate_queries = (\n",
    "    prompt_rag_fusion\n",
    "    | llm\n",
    "    | StrOutputParser()\n",
    "    | (lambda x: [line.strip() for line in x.split(\"\\n\") if line.strip()])\n",
    ")\n",
    "\n",
    "#Chain com RRF\n",
    "retrieval_chain_rag_fusion = generate_queries | retriever.map() | reciprocal_rank_fusion"
   ]
  },
  {
   "cell_type": "code",
   "execution_count": 113,
   "metadata": {},
   "outputs": [
    {
     "data": {
      "text/plain": [
       "['Quais fatores contribuíram para a queda da monarquia brasileira e a subsequente proclamação da república?',\n",
       " 'Quais eventos e circunstâncias levaram à Proclamação da República no Brasil em 1889?',\n",
       " 'Quais foram os motivos políticos, sociais e econômicos que resultaram na proclamação da República no Brasil?',\n",
       " 'Como o contexto sociopolítico do Brasil no final do século XIX propiciou a Proclamação da República?']"
      ]
     },
     "execution_count": 113,
     "metadata": {},
     "output_type": "execute_result"
    }
   ],
   "source": [
    "generate_queries.invoke(query)"
   ]
  },
  {
   "cell_type": "markdown",
   "metadata": {},
   "source": [
    "Execução da busca de documentos usando o RAG-Fusion:"
   ]
  },
  {
   "cell_type": "code",
   "execution_count": 95,
   "metadata": {},
   "outputs": [
    {
     "name": "stdout",
     "output_type": "stream",
     "text": [
      "12. **Proclamação da República (1889):**  O golpe militar que instaurou a República em 15 de novembro de 1889 marcou uma mudança radical no regime político brasileiro, encerrando o período imperial e dando início à chamada República Velha.  Apesar da promessa de modernização e progresso, a República Velha foi marcada pela oligarquia cafeeira e pela política do café com leite, na qual o poder se alternava entre as elites de São Paulo e Minas Gerais.  Esse sistema excluía grande parte da população da participação política e perpetuava as desigualdades sociais herdadas do período imperial. A proclamação, embora celebrada como um avanço, na prática representou a troca de uma elite dominante por outra, com poucas mudanças estruturais na sociedade brasileira.\n",
      "13. **Primeira República e Tensão Social (1889–1930):** A Primeira República, também conhecida como República Velha, foi um período de intensas contradições.  Por um lado, testemunhou o início da industrialização e o crescimento das cidades. Por outro, foi marcado por profundas desigualdades sociais, pelo coronelismo, que dominava o cenário político no interior do país, e pela marginalização das classes populares.  Revoltas como a de Canudos (1896–1897) e a Revolta da Chibata (1910) expuseram a violência e a opressão sofridas pelos mais pobres, revelando as tensões latentes e a fragilidade da ordem social vigente.  Essas revoltas, brutalmente reprimidas, demonstram a insatisfação popular com o sistema político e as condições de vida da época.\n",
      "11. **Abolição da Escravatura (1888):**  A assinatura da Lei Áurea em 13 de maio de 1888, embora tardia em comparação com outras nações, representou um marco fundamental na história brasileira, abolindo oficialmente a escravidão após séculos de exploração brutal.  No entanto, a  lei não previu nenhuma política de inclusão social ou econômica para os recém-libertos, abandonando-os à própria sorte sem terras, educação ou qualquer tipo de apoio.  Essa omissão gerou um ciclo de pobreza e marginalização que ainda impacta a população negra no Brasil. A abolição também teve consequências políticas significativas, enfraquecendo o apoio da elite agrária à monarquia, que via na escravidão a base de sua economia e poder.  Esse descontentamento contribuiu para o clima de instabilidade que culminou na Proclamação da República no ano seguinte.\n"
     ]
    }
   ],
   "source": [
    "response2 = retrieval_chain_rag_fusion.invoke(query)\n",
    "for i in response2:\n",
    "    print(i[0].page_content)"
   ]
  },
  {
   "cell_type": "code",
   "execution_count": 107,
   "metadata": {},
   "outputs": [],
   "source": [
    "def format_docs_rag(docs):\n",
    "    return \"\\n\\n\".join([d.page_content for d in docs])\n",
    "\n",
    "# Prompt de geração com Few-Shot Dinâmico\n",
    "sql_generation_prompt_template = \"\"\"\n",
    "Você é uma ferramenta desenvolvida para responder perguntas do usuário sobre a história do Brasil.\n",
    "Responda no formato de Markdown.\n",
    "Use somente as informações fornecidas nos documentos para responder à pergunta.\n",
    "Os documentos de referência são:\n",
    "{context}\n",
    "\n",
    "Pergunta: {question}\n",
    "\"\"\"\n",
    "\n",
    "main_prompt = PromptTemplate.from_template(sql_generation_prompt_template)\n",
    "\n",
    "# Chain para gerar a query SQL\n",
    "main_chain_rag = (\n",
    "    {\n",
    "        \"context\": retriever | format_docs_rag,\n",
    "        \"question\": RunnablePassthrough()\n",
    "    }\n",
    "    | main_prompt\n",
    "    | llm\n",
    "    | StrOutputParser()\n",
    ")"
   ]
  },
  {
   "cell_type": "code",
   "execution_count": 108,
   "metadata": {},
   "outputs": [],
   "source": [
    "def format_docs_rag_fusion(docs):\n",
    "    return \"\\n\\n\".join([d[0].page_content for d in docs])\n",
    "\n",
    "# Prompt de geração com Few-Shot Dinâmico\n",
    "sql_generation_prompt_template = \"\"\"\n",
    "Você é uma ferramenta desenvolvida para responder perguntas do usuário sobre a história do Brasil.\n",
    "Responda no formato de Markdown.\n",
    "Use somente as informações fornecidas nos documentos para responder à pergunta.\n",
    "Os documentos de referência são:\n",
    "{context}\n",
    "\n",
    "Pergunta: {question}\n",
    "\"\"\"\n",
    "\n",
    "main_prompt = PromptTemplate.from_template(sql_generation_prompt_template)\n",
    "\n",
    "# Chain para gerar a query SQL\n",
    "main_chain_rag_fusion = (\n",
    "    {\n",
    "        \"context\": retrieval_chain_rag_fusion | format_docs_rag_fusion,\n",
    "        \"question\": RunnablePassthrough()\n",
    "    }\n",
    "    | main_prompt\n",
    "    | llm\n",
    "    | StrOutputParser()\n",
    ")"
   ]
  },
  {
   "cell_type": "code",
   "execution_count": null,
   "metadata": {},
   "outputs": [
    {
     "data": {
      "text/markdown": [
       "O documento 12 menciona que a Proclamação da República, em 15 de novembro de 1889, foi resultado de um golpe militar.  Embora prometesse modernização e progresso, a República Velha foi caracterizada pela oligarquia cafeeira e pela política do \"café com leite\",  demonstrando que a mudança representou uma troca de elites dominantes, com poucas mudanças estruturais.  O documento não detalha outras causas específicas para o golpe.\n"
      ],
      "text/plain": [
       "<IPython.core.display.Markdown object>"
      ]
     },
     "metadata": {},
     "output_type": "display_data"
    }
   ],
   "source": [
    "display(Markdown(main_chain_rag.invoke(query)))"
   ]
  },
  {
   "cell_type": "code",
   "execution_count": 110,
   "metadata": {},
   "outputs": [
    {
     "data": {
      "text/markdown": [
       "A Proclamação da República, em 15 de novembro de 1889, foi resultado de um golpe militar que encerrou o período imperial.  Embora a abolição da escravatura em 1888 tenha sido um marco fundamental, a falta de políticas de inclusão social para os libertos gerou um ciclo de pobreza e marginalização, e enfraqueceu o apoio da elite agrária (que dependia da escravidão) à monarquia.  Esse descontentamento contribuiu para o clima de instabilidade que culminou na proclamação da República.  A própria República Velha, apesar da promessa de modernização, foi marcada pela oligarquia cafeeira e pela política do \"café com leite\", excluindo grande parte da população da participação política e perpetuando desigualdades.\n"
      ],
      "text/plain": [
       "<IPython.core.display.Markdown object>"
      ]
     },
     "metadata": {},
     "output_type": "display_data"
    }
   ],
   "source": [
    "display(Markdown(main_chain_rag_fusion.invoke(query)))"
   ]
  }
 ],
 "metadata": {
  "kernelspec": {
   "display_name": "Python 3",
   "language": "python",
   "name": "python3"
  },
  "language_info": {
   "codemirror_mode": {
    "name": "ipython",
    "version": 3
   },
   "file_extension": ".py",
   "mimetype": "text/x-python",
   "name": "python",
   "nbconvert_exporter": "python",
   "pygments_lexer": "ipython3",
   "version": "3.12.7"
  }
 },
 "nbformat": 4,
 "nbformat_minor": 2
}
